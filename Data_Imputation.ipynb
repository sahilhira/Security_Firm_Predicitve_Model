{
 "cells": [
  {
   "cell_type": "code",
   "execution_count": 1,
   "metadata": {},
   "outputs": [],
   "source": [
    "#import all required libraries and packages\n",
    "import numpy as np\n",
    "import pandas as pd\n",
    "import matplotlib.pyplot as plt\n",
    "import seaborn as sns\n",
    "%matplotlib inline"
   ]
  },
  {
   "cell_type": "code",
   "execution_count": 1,
   "metadata": {},
   "outputs": [],
   "source": [
    "data = pd.read_excel('MarketingTeam_Data.xlsx')"
   ]
  },
  {
   "cell_type": "code",
   "execution_count": 4,
   "metadata": {},
   "outputs": [
    {
     "name": "stdout",
     "output_type": "stream",
     "text": [
      "<class 'pandas.core.frame.DataFrame'>\n",
      "Int64Index: 3298 entries, 0 to 4999\n",
      "Data columns (total 12 columns):\n",
      "Monitoring Plan             3298 non-null object\n",
      "PurchasedNewControlPanel    3298 non-null int64\n",
      "Age                         3039 non-null object\n",
      "Education                   3078 non-null object\n",
      "Gender                      3298 non-null object\n",
      "HomeImprovement             2109 non-null float64\n",
      "HomeMarketValue             3255 non-null object\n",
      "HouseholdIncome             3252 non-null object\n",
      "LengthofResidence           3219 non-null object\n",
      "MaritalStatus               2975 non-null object\n",
      "PresenceofChildren          3061 non-null object\n",
      "Technology                  2306 non-null float64\n",
      "dtypes: float64(2), int64(1), object(9)\n",
      "memory usage: 335.0+ KB\n"
     ]
    }
   ],
   "source": [
    "data = data.dropna(thresh = 6)\n",
    "data.info()"
   ]
  },
  {
   "cell_type": "code",
   "execution_count": 5,
   "metadata": {},
   "outputs": [
    {
     "data": {
      "text/plain": [
       "35-44    900\n",
       "45-54    785\n",
       "25-34    638\n",
       "55-64    571\n",
       "65+      300\n",
       "21-24     52\n",
       "18-20      8\n",
       "Name: Age, dtype: int64"
      ]
     },
     "execution_count": 5,
     "metadata": {},
     "output_type": "execute_result"
    }
   ],
   "source": [
    "data = pd.read_excel('MarketingTeam_Data.xlsx')\n",
    "data['Age'].value_counts()"
   ]
  },
  {
   "cell_type": "code",
   "execution_count": 6,
   "metadata": {},
   "outputs": [
    {
     "data": {
      "text/plain": [
       "35-44    2646\n",
       "45-54     785\n",
       "25-34     638\n",
       "55-64     571\n",
       "65+       300\n",
       "21-24      52\n",
       "18-20       8\n",
       "Name: Age, dtype: int64"
      ]
     },
     "execution_count": 6,
     "metadata": {},
     "output_type": "execute_result"
    }
   ],
   "source": [
    "data['Age'].replace({\"\":np.nan}, inplace=True)\n",
    "data['Age'].fillna(data['Age'].mode().iloc[0], inplace = True)\n",
    "data['Age'].value_counts()"
   ]
  },
  {
   "cell_type": "code",
   "execution_count": 7,
   "metadata": {},
   "outputs": [],
   "source": [
    "data = pd.read_excel('MarketingTeam_Data.xlsx')\n",
    "data.fillna(method = \"ffill\", inplace = True)"
   ]
  },
  {
   "cell_type": "code",
   "execution_count": 8,
   "metadata": {},
   "outputs": [
    {
     "name": "stdout",
     "output_type": "stream",
     "text": [
      "<class 'pandas.core.frame.DataFrame'>\n",
      "RangeIndex: 5000 entries, 0 to 4999\n",
      "Data columns (total 12 columns):\n",
      "Monitoring Plan             5000 non-null object\n",
      "PurchasedNewControlPanel    5000 non-null int64\n",
      "Age                         5000 non-null object\n",
      "Education                   5000 non-null object\n",
      "Gender                      5000 non-null object\n",
      "HomeImprovement             5000 non-null float64\n",
      "HomeMarketValue             5000 non-null object\n",
      "HouseholdIncome             5000 non-null object\n",
      "LengthofResidence           5000 non-null object\n",
      "MaritalStatus               5000 non-null object\n",
      "PresenceofChildren          5000 non-null object\n",
      "Technology                  4999 non-null float64\n",
      "dtypes: float64(2), int64(1), object(9)\n",
      "memory usage: 468.8+ KB\n"
     ]
    }
   ],
   "source": [
    "data.info()"
   ]
  },
  {
   "cell_type": "code",
   "execution_count": 9,
   "metadata": {},
   "outputs": [
    {
     "data": {
      "text/plain": [
       "35-44    1364\n",
       "45-54    1190\n",
       "25-34    1013\n",
       "55-64     888\n",
       "65+       459\n",
       "21-24      76\n",
       "18-20      10\n",
       "Name: Age, dtype: int64"
      ]
     },
     "execution_count": 9,
     "metadata": {},
     "output_type": "execute_result"
    }
   ],
   "source": [
    "data['Age'].value_counts()"
   ]
  },
  {
   "cell_type": "code",
   "execution_count": 10,
   "metadata": {},
   "outputs": [
    {
     "data": {
      "text/plain": [
       "35-44    900\n",
       "45-54    785\n",
       "25-34    638\n",
       "55-64    571\n",
       "65+      300\n",
       "21-24     52\n",
       "18-20      8\n",
       "Name: Age, dtype: int64"
      ]
     },
     "execution_count": 10,
     "metadata": {},
     "output_type": "execute_result"
    }
   ],
   "source": [
    "df1 = pd.read_excel('MarketingTeam_Data.xlsx')\n",
    "df1['Age'].value_counts()"
   ]
  },
  {
   "cell_type": "code",
   "execution_count": 11,
   "metadata": {},
   "outputs": [
    {
     "data": {
      "text/plain": [
       "35-44    900\n",
       "45-54    785\n",
       "25-34    647\n",
       "55-64    571\n",
       "65+      300\n",
       "21-24     94\n",
       "18-20     54\n",
       "Name: Age, dtype: int64"
      ]
     },
     "execution_count": 11,
     "metadata": {},
     "output_type": "execute_result"
    }
   ],
   "source": [
    "for index,row in df1.iterrows():\n",
    "    curr_age=row['Age']\n",
    "    status=row['MaritalStatus']\n",
    "    Ed = row['Education']\n",
    "    if pd.isnull(zipcode) and (state =='AZ'):\n",
    "        df1.loc[index,'zipcode']= df1.['states'].mode().iloc[0]        \n",
    "    elif pd.isnull(curr_age) and (status =='Single') and (Ed =='Completed College'):\n",
    "        df1.loc[index,'Age']= '21-24'\n",
    "    elif pd.isnull(curr_age) and (status =='Single') and (Ed =='Completed Graduate School'):\n",
    "        df1.loc[index,'Age']= '25-34'\n",
    "\n",
    "df1['Age'].value_counts()"
   ]
  },
  {
   "cell_type": "code",
   "execution_count": 12,
   "metadata": {},
   "outputs": [
    {
     "data": {
      "text/plain": [
       "35-44    1326\n",
       "45-54    1183\n",
       "25-34     959\n",
       "55-64     848\n",
       "65+       455\n",
       "21-24     145\n",
       "18-20      84\n",
       "Name: Age, dtype: int64"
      ]
     },
     "execution_count": 12,
     "metadata": {},
     "output_type": "execute_result"
    }
   ],
   "source": [
    "age_array = df1['Age'].values\n",
    "age_array= age_array[~ pd.isnull(age_array)]\n",
    "\n",
    "for index,row in df1.iterrows():\n",
    "    cur_age=row['Age']\n",
    "    if pd.isnull(cur_age):\n",
    "        randIndex=np.random.randint(len(age_array))\n",
    "        randvalue=age_array[randIndex]\n",
    "        #print(randvalue)\n",
    "        df1.loc[index,'Age']=randvalue\n",
    "\n",
    "df1['Age'].value_counts()"
   ]
  },
  {
   "cell_type": "code",
   "execution_count": 14,
   "metadata": {},
   "outputs": [
    {
     "data": {
      "text/plain": [
       "No     2978\n",
       "Yes    2022\n",
       "Name: PresenceofChildren, dtype: int64"
      ]
     },
     "execution_count": 14,
     "metadata": {},
     "output_type": "execute_result"
    }
   ],
   "source": [
    "for index,row in df1.iterrows():\n",
    "    curr_age=row['Age']\n",
    "    status=row['MaritalStatus']\n",
    "    poc = row['PresenceofChildren']\n",
    "    if pd.isnull(status) and ((curr_age == '18-20') or (curr_age =='21-24') or (curr_age =='25-34')):\n",
    "        df1.loc[index,'MaritalStatus'] = 'Single'\n",
    "    elif pd.isnull(status) and ((curr_age == '35-44') or (curr_age =='45-54') or (curr_age =='55-64') or (curr_age =='65+')):\n",
    "        df1.loc[index,'MaritalStatus'] = 'Married'\n",
    "    elif pd.isnull(poc) and (status == 'Single'):\n",
    "        df1.loc[index,'PresenceofChildren'] = 'No'\n",
    "    elif pd.isnull(poc) and (status == 'Married'):\n",
    "        df1.loc[index,'PresenceofChildren'] = 'Yes'\n",
    "        \n",
    "df1['MaritalStatus'].value_counts()\n",
    "df1['PresenceofChildren'].value_counts()"
   ]
  },
  {
   "cell_type": "code",
   "execution_count": 15,
   "metadata": {},
   "outputs": [
    {
     "data": {
      "text/plain": [
       "Completed High School        1263\n",
       "Completed College            1207\n",
       "Completed Graduate School     608\n",
       "Name: Education, dtype: int64"
      ]
     },
     "execution_count": 15,
     "metadata": {},
     "output_type": "execute_result"
    }
   ],
   "source": [
    "df1['Education'].value_counts()"
   ]
  },
  {
   "cell_type": "code",
   "execution_count": 16,
   "metadata": {},
   "outputs": [],
   "source": [
    "for index,row in df1.iterrows():\n",
    "    curr_age=row['Age']\n",
    "    edu=row['Education']\n",
    "    if pd.isnull(edu) and ((curr_age == '18-20')):\n",
    "        df1.loc[index,'Education'] = 'Completed High School'\n",
    "    elif pd.isnull(edu) and ((curr_age == '21-24')):\n",
    "        df1.loc[index,'Education'] = 'Completed College'\n",
    "    elif pd.isnull(edu) and ((curr_age == '25-34')):\n",
    "        df1.loc[index,'Education'] = 'Completed Graduate School'"
   ]
  },
  {
   "cell_type": "code",
   "execution_count": 17,
   "metadata": {},
   "outputs": [
    {
     "data": {
      "text/plain": [
       "Completed High School        1789\n",
       "Completed College            1774\n",
       "Completed Graduate School    1437\n",
       "Name: Education, dtype: int64"
      ]
     },
     "execution_count": 17,
     "metadata": {},
     "output_type": "execute_result"
    }
   ],
   "source": [
    "ed_array = df1['Education'].values\n",
    "ed_array= ed_array[~ pd.isnull(ed_array)]\n",
    "\n",
    "for index,row in df1.iterrows():\n",
    "    edu=row['Education']\n",
    "    if pd.isnull(edu):\n",
    "        randIndex=np.random.randint(len(ed_array))\n",
    "        randvalue=ed_array[randIndex]\n",
    "        #print(randvalue)\n",
    "        df1.loc[index,'Education']=randvalue\n",
    "\n",
    "df1['Education'].value_counts()\n",
    "\n"
   ]
  },
  {
   "cell_type": "code",
   "execution_count": 18,
   "metadata": {},
   "outputs": [
    {
     "data": {
      "text/plain": [
       "1.0    2325\n",
       "Name: Technology, dtype: int64"
      ]
     },
     "execution_count": 18,
     "metadata": {},
     "output_type": "execute_result"
    }
   ],
   "source": [
    "df_main = df1\n",
    "df1['Technology'].value_counts()"
   ]
  },
  {
   "cell_type": "code",
   "execution_count": 19,
   "metadata": {},
   "outputs": [
    {
     "data": {
      "text/plain": [
       "1.0    3994\n",
       "0.0    1006\n",
       "Name: Technology, dtype: int64"
      ]
     },
     "execution_count": 19,
     "metadata": {},
     "output_type": "execute_result"
    }
   ],
   "source": [
    "for index,row in df1.iterrows():\n",
    "    curr_age=row['Age']\n",
    "    edu=row['Education']\n",
    "    tech=row['Technology']\n",
    "    if pd.isnull(tech) and ((edu == 'Completed College') or (edu == 'Completed Graduate School')) and ((curr_age != '45-54') or (curr_age != '55-64') or (curr_age != '65+')):\n",
    "        df1.loc[index,'Technology'] = 1.0\n",
    "    elif pd.isnull(tech):\n",
    "        df1.loc[index,'Technology'] = 0.0\n",
    "        \n",
    "df_main = df1        \n",
    "df1['Technology'].value_counts()"
   ]
  },
  {
   "cell_type": "code",
   "execution_count": 20,
   "metadata": {},
   "outputs": [
    {
     "data": {
      "text/plain": [
       "11-15 years         822\n",
       "2 Years             702\n",
       "16-19 years         587\n",
       "1 Year              552\n",
       "20+ years           429\n",
       "6 Years             304\n",
       "5 Years             295\n",
       "3 Years             295\n",
       "4 Years             288\n",
       "7 Years             196\n",
       "10 Years            183\n",
       "9 Years             162\n",
       "8 Years             162\n",
       "Less than 1 year     23\n",
       "Name: LengthofResidence, dtype: int64"
      ]
     },
     "execution_count": 20,
     "metadata": {},
     "output_type": "execute_result"
    }
   ],
   "source": [
    "lor_array = df1['LengthofResidence'].values\n",
    "lor_array = lor_array[~ pd.isnull(lor_array)]\n",
    "\n",
    "for index,row in df1.iterrows():\n",
    "    edu=row['LengthofResidence']\n",
    "    if pd.isnull(edu):\n",
    "        randIndex=np.random.randint(len(lor_array))\n",
    "        randvalue=lor_array[randIndex]\n",
    "        #print(randvalue)\n",
    "        df1.loc[index,'LengthofResidence']=randvalue\n",
    "\n",
    "df_main = df1        \n",
    "df1['LengthofResidence'].value_counts()"
   ]
  },
  {
   "cell_type": "code",
   "execution_count": 21,
   "metadata": {},
   "outputs": [
    {
     "data": {
      "text/plain": [
       "75k-100k     862\n",
       "50k-75k      767\n",
       "150k-175k    763\n",
       "100k-125k    750\n",
       "125k-150k    553\n",
       "35k-50k      522\n",
       "25k-35k      183\n",
       "15k-25k      174\n",
       "175k-200k    118\n",
       "250k+        117\n",
       "200k-250k    113\n",
       "0-15k         78\n",
       "Name: HouseholdIncome, dtype: int64"
      ]
     },
     "execution_count": 21,
     "metadata": {},
     "output_type": "execute_result"
    }
   ],
   "source": [
    "hhi_gs_array = ['75k-100k', '100k-125k', '125k-150k', '150k-175k', '175k-200k', '200k-250k', '250k+']\n",
    "hhi_cd_array = ['35k-50k', '50k-75k', '75k-100k', '100k-125k', '125k-150k', '150k-175k']\n",
    "hhi_hs_array = ['35k-50k', '50k-75k', '75k-100k', '100k-125k']\n",
    "\n",
    "for index,row in df1.iterrows():\n",
    "    hhi=row['HouseholdIncome']\n",
    "    edu=row['Education']\n",
    "    if (pd.isnull(hhi)) and (edu == 'Completed Graduate School'):\n",
    "        randIndex=np.random.randint(len(hhi_gs_array))\n",
    "        randvalue=hhi_gs_array[randIndex]\n",
    "        #print(randvalue)\n",
    "        df1.loc[index,'HouseholdIncome']=randvalue\n",
    "        \n",
    "    elif (pd.isnull(hhi)) and (edu == 'Completed College'):\n",
    "        randIndex=np.random.randint(len(hhi_cd_array))\n",
    "        randvalue=hhi_cd_array[randIndex]\n",
    "        #print(randvalue)\n",
    "        df1.loc[index,'HouseholdIncome']=randvalue\n",
    "        \n",
    "    elif (pd.isnull(hhi)) and (edu == 'Completed High School'):\n",
    "        randIndex=np.random.randint(len(hhi_hs_array))\n",
    "        randvalue=hhi_hs_array[randIndex]\n",
    "        #print(randvalue)\n",
    "        df1.loc[index,'HouseholdIncome']=randvalue\n",
    "      \n",
    "\n",
    "    \n",
    "df_main = df1        \n",
    "df1['HouseholdIncome'].value_counts()"
   ]
  },
  {
   "cell_type": "code",
   "execution_count": 22,
   "metadata": {},
   "outputs": [
    {
     "data": {
      "text/plain": [
       "150k-200k    871\n",
       "100k-150k    818\n",
       "350k-500k    682\n",
       "500k-1mm     584\n",
       "<100k        485\n",
       "200k-250k    459\n",
       "250k-300k    454\n",
       "300k-350k    400\n",
       "1mm+         247\n",
       "Name: HomeMarketValue, dtype: int64"
      ]
     },
     "execution_count": 22,
     "metadata": {},
     "output_type": "execute_result"
    }
   ],
   "source": [
    "hmv_top = ['350k-500k', '500k-1mm', '1mm+'] \n",
    "hmv_mid = ['100k-150k', '150k-200k', '200k-250k', '250k-300k', '300k-350k', '350k-500k']\n",
    "hmv_low = ['<100k', '100k-150k', '150k-200k']\n",
    "\n",
    "for index,row in df1.iterrows():\n",
    "    hmv=row['HomeMarketValue']\n",
    "    hhi=row['HouseholdIncome']\n",
    "    if (pd.isnull(hmv)) and ((hhi == '150k-175k') or (hhi == '175k-200k') or (hhi == '200k-250k') or (hhi == '250k+')):\n",
    "        randIndex=np.random.randint(len(hmv_top))\n",
    "        randvalue=hmv_top[randIndex]\n",
    "        #print(randvalue)\n",
    "        df1.loc[index,'HomeMarketValue']=randvalue\n",
    "        \n",
    "    elif (pd.isnull(hmv)) and ((hhi == '75k-100k') or (hhi == '100k-125k') or (hhi == '125k-150k')):\n",
    "        randIndex=np.random.randint(len(hmv_mid))\n",
    "        randvalue=hmv_mid[randIndex]\n",
    "        #print(randvalue)\n",
    "        df1.loc[index,'HomeMarketValue']=randvalue\n",
    "        \n",
    "    elif (pd.isnull(hmv)) and ((hhi == '0-15k') or (hhi == '15k-25k') or (hhi == '25k-35k') or (hhi == '35k-50k') or (hhi == '50k-75k')):\n",
    "        randIndex=np.random.randint(len(hmv_low))\n",
    "        randvalue=hmv_low[randIndex]\n",
    "        #print(randvalue)\n",
    "        df1.loc[index,'HomeMarketValue']=randvalue\n",
    "        \n",
    "df_main = df1        \n",
    "df1['HomeMarketValue'].value_counts()      "
   ]
  },
  {
   "cell_type": "code",
   "execution_count": 23,
   "metadata": {},
   "outputs": [
    {
     "data": {
      "text/plain": [
       "0    150k-200k\n",
       "Name: HomeMarketValue, dtype: object"
      ]
     },
     "execution_count": 23,
     "metadata": {},
     "output_type": "execute_result"
    }
   ],
   "source": [
    "hi_mode = df1[pd.notnull(df1['HomeImprovement'])].mode()\n",
    "hmv_mode = hi_mode['HomeMarketValue']\n",
    "hmv_mode"
   ]
  },
  {
   "cell_type": "code",
   "execution_count": 24,
   "metadata": {},
   "outputs": [
    {
     "data": {
      "text/plain": [
       "1.0    3730\n",
       "0.0    1270\n",
       "Name: HomeImprovement, dtype: int64"
      ]
     },
     "execution_count": 24,
     "metadata": {},
     "output_type": "execute_result"
    }
   ],
   "source": [
    "for index,row in df1.iterrows():\n",
    "    hmv=row['HomeMarketValue']\n",
    "    hi=row['HomeImprovement']\n",
    "    if (pd.isnull(hi)) and ((hmv == '200k-250k') or (hmv == '250k-300k') or (hmv == '300k-350k') or (hmv == '350k-500k') or (hmv == '500k-1mm') or (hmv == '1mm+')):\n",
    "        df1.loc[index,'HomeImprovement'] = 1.0\n",
    "    elif (pd.isnull(hi)):\n",
    "        df1.loc[index,'HomeImprovement'] = 0.0\n",
    "\n",
    "df_final = df1        \n",
    "df1['HomeImprovement'].value_counts()"
   ]
  },
  {
   "cell_type": "code",
   "execution_count": 25,
   "metadata": {},
   "outputs": [
    {
     "name": "stdout",
     "output_type": "stream",
     "text": [
      "<class 'pandas.core.frame.DataFrame'>\n",
      "RangeIndex: 5000 entries, 0 to 4999\n",
      "Data columns (total 12 columns):\n",
      "Monitoring Plan             5000 non-null object\n",
      "PurchasedNewControlPanel    5000 non-null int64\n",
      "Age                         5000 non-null object\n",
      "Education                   5000 non-null object\n",
      "Gender                      5000 non-null object\n",
      "HomeImprovement             5000 non-null float64\n",
      "HomeMarketValue             5000 non-null object\n",
      "HouseholdIncome             5000 non-null object\n",
      "LengthofResidence           5000 non-null object\n",
      "MaritalStatus               5000 non-null object\n",
      "PresenceofChildren          5000 non-null object\n",
      "Technology                  5000 non-null float64\n",
      "dtypes: float64(2), int64(1), object(9)\n",
      "memory usage: 468.8+ KB\n"
     ]
    }
   ],
   "source": [
    "df1.info()"
   ]
  },
  {
   "cell_type": "code",
   "execution_count": 27,
   "metadata": {},
   "outputs": [],
   "source": [
    "df1.to_excel('MarketingTeam_Data_Imputed.xlsx')"
   ]
  }
 ],
 "metadata": {
  "kernelspec": {
   "display_name": "Python 3",
   "language": "python",
   "name": "python3"
  },
  "language_info": {
   "codemirror_mode": {
    "name": "ipython",
    "version": 3
   },
   "file_extension": ".py",
   "mimetype": "text/x-python",
   "name": "python",
   "nbconvert_exporter": "python",
   "pygments_lexer": "ipython3",
   "version": "3.6.4"
  }
 },
 "nbformat": 4,
 "nbformat_minor": 2
}
